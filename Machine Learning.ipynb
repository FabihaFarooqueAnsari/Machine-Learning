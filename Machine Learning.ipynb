{
 "cells": [
  {
   "cell_type": "code",
   "execution_count": null,
   "id": "subjective-pottery",
   "metadata": {},
   "outputs": [],
   "source": [
    "Performing EDA(exploratory data analysis) and machine learning models :- Logistic Rression, Decision Tree , Random Forest"
   ]
  },
  {
   "cell_type": "code",
   "execution_count": 1,
   "id": "mexican-standing",
   "metadata": {},
   "outputs": [],
   "source": [
    "import pandas as pd\n",
    "import numpy as np\n",
    "import matplotlib.pyplot as plt\n",
    "%matplotlib inline\n",
    "import seaborn as sns"
   ]
  },
  {
   "cell_type": "code",
   "execution_count": 2,
   "id": "dietary-kernel",
   "metadata": {},
   "outputs": [
    {
     "data": {
      "text/html": [
       "<div>\n",
       "<style scoped>\n",
       "    .dataframe tbody tr th:only-of-type {\n",
       "        vertical-align: middle;\n",
       "    }\n",
       "\n",
       "    .dataframe tbody tr th {\n",
       "        vertical-align: top;\n",
       "    }\n",
       "\n",
       "    .dataframe thead th {\n",
       "        text-align: right;\n",
       "    }\n",
       "</style>\n",
       "<table border=\"1\" class=\"dataframe\">\n",
       "  <thead>\n",
       "    <tr style=\"text-align: right;\">\n",
       "      <th></th>\n",
       "      <th>age</th>\n",
       "      <th>anaemia</th>\n",
       "      <th>cholesterol</th>\n",
       "      <th>diabetes</th>\n",
       "      <th>ejection_fraction</th>\n",
       "      <th>high_blood_pressure</th>\n",
       "      <th>platelets</th>\n",
       "      <th>serum1</th>\n",
       "      <th>serum_sodium</th>\n",
       "      <th>sex</th>\n",
       "      <th>smoking</th>\n",
       "      <th>time</th>\n",
       "      <th>DEATH</th>\n",
       "    </tr>\n",
       "  </thead>\n",
       "  <tbody>\n",
       "    <tr>\n",
       "      <th>0</th>\n",
       "      <td>75.0</td>\n",
       "      <td>0</td>\n",
       "      <td>582</td>\n",
       "      <td>0</td>\n",
       "      <td>20</td>\n",
       "      <td>1</td>\n",
       "      <td>265000.00</td>\n",
       "      <td>1.9</td>\n",
       "      <td>130</td>\n",
       "      <td>1</td>\n",
       "      <td>0</td>\n",
       "      <td>4</td>\n",
       "      <td>1</td>\n",
       "    </tr>\n",
       "    <tr>\n",
       "      <th>1</th>\n",
       "      <td>55.0</td>\n",
       "      <td>0</td>\n",
       "      <td>7861</td>\n",
       "      <td>0</td>\n",
       "      <td>38</td>\n",
       "      <td>0</td>\n",
       "      <td>263358.03</td>\n",
       "      <td>1.1</td>\n",
       "      <td>136</td>\n",
       "      <td>1</td>\n",
       "      <td>0</td>\n",
       "      <td>6</td>\n",
       "      <td>1</td>\n",
       "    </tr>\n",
       "    <tr>\n",
       "      <th>2</th>\n",
       "      <td>65.0</td>\n",
       "      <td>0</td>\n",
       "      <td>146</td>\n",
       "      <td>0</td>\n",
       "      <td>20</td>\n",
       "      <td>0</td>\n",
       "      <td>162000.00</td>\n",
       "      <td>1.3</td>\n",
       "      <td>129</td>\n",
       "      <td>1</td>\n",
       "      <td>1</td>\n",
       "      <td>7</td>\n",
       "      <td>1</td>\n",
       "    </tr>\n",
       "    <tr>\n",
       "      <th>3</th>\n",
       "      <td>50.0</td>\n",
       "      <td>1</td>\n",
       "      <td>111</td>\n",
       "      <td>0</td>\n",
       "      <td>20</td>\n",
       "      <td>0</td>\n",
       "      <td>210000.00</td>\n",
       "      <td>1.9</td>\n",
       "      <td>137</td>\n",
       "      <td>1</td>\n",
       "      <td>0</td>\n",
       "      <td>7</td>\n",
       "      <td>1</td>\n",
       "    </tr>\n",
       "    <tr>\n",
       "      <th>4</th>\n",
       "      <td>65.0</td>\n",
       "      <td>1</td>\n",
       "      <td>160</td>\n",
       "      <td>1</td>\n",
       "      <td>20</td>\n",
       "      <td>0</td>\n",
       "      <td>327000.00</td>\n",
       "      <td>2.7</td>\n",
       "      <td>116</td>\n",
       "      <td>0</td>\n",
       "      <td>0</td>\n",
       "      <td>8</td>\n",
       "      <td>1</td>\n",
       "    </tr>\n",
       "    <tr>\n",
       "      <th>...</th>\n",
       "      <td>...</td>\n",
       "      <td>...</td>\n",
       "      <td>...</td>\n",
       "      <td>...</td>\n",
       "      <td>...</td>\n",
       "      <td>...</td>\n",
       "      <td>...</td>\n",
       "      <td>...</td>\n",
       "      <td>...</td>\n",
       "      <td>...</td>\n",
       "      <td>...</td>\n",
       "      <td>...</td>\n",
       "      <td>...</td>\n",
       "    </tr>\n",
       "    <tr>\n",
       "      <th>294</th>\n",
       "      <td>62.0</td>\n",
       "      <td>0</td>\n",
       "      <td>61</td>\n",
       "      <td>1</td>\n",
       "      <td>38</td>\n",
       "      <td>1</td>\n",
       "      <td>155000.00</td>\n",
       "      <td>1.1</td>\n",
       "      <td>143</td>\n",
       "      <td>1</td>\n",
       "      <td>1</td>\n",
       "      <td>270</td>\n",
       "      <td>0</td>\n",
       "    </tr>\n",
       "    <tr>\n",
       "      <th>295</th>\n",
       "      <td>55.0</td>\n",
       "      <td>0</td>\n",
       "      <td>1820</td>\n",
       "      <td>0</td>\n",
       "      <td>38</td>\n",
       "      <td>0</td>\n",
       "      <td>270000.00</td>\n",
       "      <td>1.2</td>\n",
       "      <td>139</td>\n",
       "      <td>0</td>\n",
       "      <td>0</td>\n",
       "      <td>271</td>\n",
       "      <td>0</td>\n",
       "    </tr>\n",
       "    <tr>\n",
       "      <th>296</th>\n",
       "      <td>45.0</td>\n",
       "      <td>0</td>\n",
       "      <td>2060</td>\n",
       "      <td>1</td>\n",
       "      <td>60</td>\n",
       "      <td>0</td>\n",
       "      <td>742000.00</td>\n",
       "      <td>0.8</td>\n",
       "      <td>138</td>\n",
       "      <td>0</td>\n",
       "      <td>0</td>\n",
       "      <td>278</td>\n",
       "      <td>0</td>\n",
       "    </tr>\n",
       "    <tr>\n",
       "      <th>297</th>\n",
       "      <td>45.0</td>\n",
       "      <td>0</td>\n",
       "      <td>2413</td>\n",
       "      <td>0</td>\n",
       "      <td>38</td>\n",
       "      <td>0</td>\n",
       "      <td>140000.00</td>\n",
       "      <td>1.4</td>\n",
       "      <td>140</td>\n",
       "      <td>1</td>\n",
       "      <td>1</td>\n",
       "      <td>280</td>\n",
       "      <td>0</td>\n",
       "    </tr>\n",
       "    <tr>\n",
       "      <th>298</th>\n",
       "      <td>50.0</td>\n",
       "      <td>0</td>\n",
       "      <td>196</td>\n",
       "      <td>0</td>\n",
       "      <td>45</td>\n",
       "      <td>0</td>\n",
       "      <td>395000.00</td>\n",
       "      <td>1.6</td>\n",
       "      <td>136</td>\n",
       "      <td>1</td>\n",
       "      <td>1</td>\n",
       "      <td>285</td>\n",
       "      <td>0</td>\n",
       "    </tr>\n",
       "  </tbody>\n",
       "</table>\n",
       "<p>299 rows × 13 columns</p>\n",
       "</div>"
      ],
      "text/plain": [
       "      age  anaemia  cholesterol   diabetes  ejection_fraction  \\\n",
       "0    75.0        0           582         0                 20   \n",
       "1    55.0        0          7861         0                 38   \n",
       "2    65.0        0           146         0                 20   \n",
       "3    50.0        1           111         0                 20   \n",
       "4    65.0        1           160         1                 20   \n",
       "..    ...      ...           ...       ...                ...   \n",
       "294  62.0        0            61         1                 38   \n",
       "295  55.0        0          1820         0                 38   \n",
       "296  45.0        0          2060         1                 60   \n",
       "297  45.0        0          2413         0                 38   \n",
       "298  50.0        0           196         0                 45   \n",
       "\n",
       "     high_blood_pressure  platelets  serum1  serum_sodium  sex  smoking  time  \\\n",
       "0                      1  265000.00     1.9           130    1        0     4   \n",
       "1                      0  263358.03     1.1           136    1        0     6   \n",
       "2                      0  162000.00     1.3           129    1        1     7   \n",
       "3                      0  210000.00     1.9           137    1        0     7   \n",
       "4                      0  327000.00     2.7           116    0        0     8   \n",
       "..                   ...        ...     ...           ...  ...      ...   ...   \n",
       "294                    1  155000.00     1.1           143    1        1   270   \n",
       "295                    0  270000.00     1.2           139    0        0   271   \n",
       "296                    0  742000.00     0.8           138    0        0   278   \n",
       "297                    0  140000.00     1.4           140    1        1   280   \n",
       "298                    0  395000.00     1.6           136    1        1   285   \n",
       "\n",
       "     DEATH  \n",
       "0        1  \n",
       "1        1  \n",
       "2        1  \n",
       "3        1  \n",
       "4        1  \n",
       "..     ...  \n",
       "294      0  \n",
       "295      0  \n",
       "296      0  \n",
       "297      0  \n",
       "298      0  \n",
       "\n",
       "[299 rows x 13 columns]"
      ]
     },
     "execution_count": 2,
     "metadata": {},
     "output_type": "execute_result"
    }
   ],
   "source": [
    "df = pd.read_csv('heart_failure_clinical_records_dataset.csv')\n",
    "df"
   ]
  },
  {
   "cell_type": "code",
   "execution_count": 3,
   "id": "paperback-miracle",
   "metadata": {},
   "outputs": [
    {
     "data": {
      "text/plain": [
       "array(['age', 'anaemia', 'cholesterol ', 'diabetes', 'ejection_fraction',\n",
       "       'high_blood_pressure', 'platelets', 'serum1', 'serum_sodium',\n",
       "       'sex', 'smoking', 'time', 'DEATH'], dtype=object)"
      ]
     },
     "execution_count": 3,
     "metadata": {},
     "output_type": "execute_result"
    }
   ],
   "source": [
    "df.columns.values"
   ]
  },
  {
   "cell_type": "code",
   "execution_count": 4,
   "id": "gorgeous-broadway",
   "metadata": {},
   "outputs": [
    {
     "data": {
      "text/plain": [
       "age                    0\n",
       "anaemia                0\n",
       "cholesterol            0\n",
       "diabetes               0\n",
       "ejection_fraction      0\n",
       "high_blood_pressure    0\n",
       "platelets              0\n",
       "serum1                 0\n",
       "serum_sodium           0\n",
       "sex                    0\n",
       "smoking                0\n",
       "time                   0\n",
       "DEATH                  0\n",
       "dtype: int64"
      ]
     },
     "execution_count": 4,
     "metadata": {},
     "output_type": "execute_result"
    }
   ],
   "source": [
    "df.isnull().sum()"
   ]
  },
  {
   "cell_type": "code",
   "execution_count": 5,
   "id": "smart-relationship",
   "metadata": {},
   "outputs": [
    {
     "data": {
      "text/html": [
       "<div>\n",
       "<style scoped>\n",
       "    .dataframe tbody tr th:only-of-type {\n",
       "        vertical-align: middle;\n",
       "    }\n",
       "\n",
       "    .dataframe tbody tr th {\n",
       "        vertical-align: top;\n",
       "    }\n",
       "\n",
       "    .dataframe thead th {\n",
       "        text-align: right;\n",
       "    }\n",
       "</style>\n",
       "<table border=\"1\" class=\"dataframe\">\n",
       "  <thead>\n",
       "    <tr style=\"text-align: right;\">\n",
       "      <th></th>\n",
       "      <th>age</th>\n",
       "      <th>anaemia</th>\n",
       "      <th>cholesterol</th>\n",
       "      <th>diabetes</th>\n",
       "      <th>ejection_fraction</th>\n",
       "      <th>high_blood_pressure</th>\n",
       "      <th>platelets</th>\n",
       "      <th>serum1</th>\n",
       "      <th>serum_sodium</th>\n",
       "      <th>sex</th>\n",
       "      <th>smoking</th>\n",
       "      <th>time</th>\n",
       "      <th>DEATH</th>\n",
       "    </tr>\n",
       "  </thead>\n",
       "  <tbody>\n",
       "    <tr>\n",
       "      <th>count</th>\n",
       "      <td>299.000000</td>\n",
       "      <td>299.000000</td>\n",
       "      <td>299.000000</td>\n",
       "      <td>299.000000</td>\n",
       "      <td>299.000000</td>\n",
       "      <td>299.000000</td>\n",
       "      <td>299.000000</td>\n",
       "      <td>299.00000</td>\n",
       "      <td>299.000000</td>\n",
       "      <td>299.000000</td>\n",
       "      <td>299.00000</td>\n",
       "      <td>299.000000</td>\n",
       "      <td>299.00000</td>\n",
       "    </tr>\n",
       "    <tr>\n",
       "      <th>mean</th>\n",
       "      <td>60.833893</td>\n",
       "      <td>0.431438</td>\n",
       "      <td>581.839465</td>\n",
       "      <td>0.418060</td>\n",
       "      <td>38.083612</td>\n",
       "      <td>0.351171</td>\n",
       "      <td>263358.029264</td>\n",
       "      <td>1.39388</td>\n",
       "      <td>136.625418</td>\n",
       "      <td>0.648829</td>\n",
       "      <td>0.32107</td>\n",
       "      <td>130.260870</td>\n",
       "      <td>0.32107</td>\n",
       "    </tr>\n",
       "    <tr>\n",
       "      <th>std</th>\n",
       "      <td>11.894809</td>\n",
       "      <td>0.496107</td>\n",
       "      <td>970.287881</td>\n",
       "      <td>0.494067</td>\n",
       "      <td>11.834841</td>\n",
       "      <td>0.478136</td>\n",
       "      <td>97804.236869</td>\n",
       "      <td>1.03451</td>\n",
       "      <td>4.412477</td>\n",
       "      <td>0.478136</td>\n",
       "      <td>0.46767</td>\n",
       "      <td>77.614208</td>\n",
       "      <td>0.46767</td>\n",
       "    </tr>\n",
       "    <tr>\n",
       "      <th>min</th>\n",
       "      <td>40.000000</td>\n",
       "      <td>0.000000</td>\n",
       "      <td>23.000000</td>\n",
       "      <td>0.000000</td>\n",
       "      <td>14.000000</td>\n",
       "      <td>0.000000</td>\n",
       "      <td>25100.000000</td>\n",
       "      <td>0.50000</td>\n",
       "      <td>113.000000</td>\n",
       "      <td>0.000000</td>\n",
       "      <td>0.00000</td>\n",
       "      <td>4.000000</td>\n",
       "      <td>0.00000</td>\n",
       "    </tr>\n",
       "    <tr>\n",
       "      <th>25%</th>\n",
       "      <td>51.000000</td>\n",
       "      <td>0.000000</td>\n",
       "      <td>116.500000</td>\n",
       "      <td>0.000000</td>\n",
       "      <td>30.000000</td>\n",
       "      <td>0.000000</td>\n",
       "      <td>212500.000000</td>\n",
       "      <td>0.90000</td>\n",
       "      <td>134.000000</td>\n",
       "      <td>0.000000</td>\n",
       "      <td>0.00000</td>\n",
       "      <td>73.000000</td>\n",
       "      <td>0.00000</td>\n",
       "    </tr>\n",
       "    <tr>\n",
       "      <th>50%</th>\n",
       "      <td>60.000000</td>\n",
       "      <td>0.000000</td>\n",
       "      <td>250.000000</td>\n",
       "      <td>0.000000</td>\n",
       "      <td>38.000000</td>\n",
       "      <td>0.000000</td>\n",
       "      <td>262000.000000</td>\n",
       "      <td>1.10000</td>\n",
       "      <td>137.000000</td>\n",
       "      <td>1.000000</td>\n",
       "      <td>0.00000</td>\n",
       "      <td>115.000000</td>\n",
       "      <td>0.00000</td>\n",
       "    </tr>\n",
       "    <tr>\n",
       "      <th>75%</th>\n",
       "      <td>70.000000</td>\n",
       "      <td>1.000000</td>\n",
       "      <td>582.000000</td>\n",
       "      <td>1.000000</td>\n",
       "      <td>45.000000</td>\n",
       "      <td>1.000000</td>\n",
       "      <td>303500.000000</td>\n",
       "      <td>1.40000</td>\n",
       "      <td>140.000000</td>\n",
       "      <td>1.000000</td>\n",
       "      <td>1.00000</td>\n",
       "      <td>203.000000</td>\n",
       "      <td>1.00000</td>\n",
       "    </tr>\n",
       "    <tr>\n",
       "      <th>max</th>\n",
       "      <td>95.000000</td>\n",
       "      <td>1.000000</td>\n",
       "      <td>7861.000000</td>\n",
       "      <td>1.000000</td>\n",
       "      <td>80.000000</td>\n",
       "      <td>1.000000</td>\n",
       "      <td>850000.000000</td>\n",
       "      <td>9.40000</td>\n",
       "      <td>148.000000</td>\n",
       "      <td>1.000000</td>\n",
       "      <td>1.00000</td>\n",
       "      <td>285.000000</td>\n",
       "      <td>1.00000</td>\n",
       "    </tr>\n",
       "  </tbody>\n",
       "</table>\n",
       "</div>"
      ],
      "text/plain": [
       "              age     anaemia  cholesterol     diabetes  ejection_fraction  \\\n",
       "count  299.000000  299.000000    299.000000  299.000000         299.000000   \n",
       "mean    60.833893    0.431438    581.839465    0.418060          38.083612   \n",
       "std     11.894809    0.496107    970.287881    0.494067          11.834841   \n",
       "min     40.000000    0.000000     23.000000    0.000000          14.000000   \n",
       "25%     51.000000    0.000000    116.500000    0.000000          30.000000   \n",
       "50%     60.000000    0.000000    250.000000    0.000000          38.000000   \n",
       "75%     70.000000    1.000000    582.000000    1.000000          45.000000   \n",
       "max     95.000000    1.000000   7861.000000    1.000000          80.000000   \n",
       "\n",
       "       high_blood_pressure      platelets     serum1  serum_sodium  \\\n",
       "count           299.000000     299.000000  299.00000    299.000000   \n",
       "mean              0.351171  263358.029264    1.39388    136.625418   \n",
       "std               0.478136   97804.236869    1.03451      4.412477   \n",
       "min               0.000000   25100.000000    0.50000    113.000000   \n",
       "25%               0.000000  212500.000000    0.90000    134.000000   \n",
       "50%               0.000000  262000.000000    1.10000    137.000000   \n",
       "75%               1.000000  303500.000000    1.40000    140.000000   \n",
       "max               1.000000  850000.000000    9.40000    148.000000   \n",
       "\n",
       "              sex    smoking        time      DEATH  \n",
       "count  299.000000  299.00000  299.000000  299.00000  \n",
       "mean     0.648829    0.32107  130.260870    0.32107  \n",
       "std      0.478136    0.46767   77.614208    0.46767  \n",
       "min      0.000000    0.00000    4.000000    0.00000  \n",
       "25%      0.000000    0.00000   73.000000    0.00000  \n",
       "50%      1.000000    0.00000  115.000000    0.00000  \n",
       "75%      1.000000    1.00000  203.000000    1.00000  \n",
       "max      1.000000    1.00000  285.000000    1.00000  "
      ]
     },
     "execution_count": 5,
     "metadata": {},
     "output_type": "execute_result"
    }
   ],
   "source": [
    "df.describe()"
   ]
  },
  {
   "cell_type": "markdown",
   "id": "packed-summary",
   "metadata": {},
   "source": [
    "Data Visualization"
   ]
  },
  {
   "cell_type": "code",
   "execution_count": 6,
   "id": "improving-modeling",
   "metadata": {},
   "outputs": [
    {
     "data": {
      "text/plain": [
       "<matplotlib.legend.Legend at 0x21c48d03948>"
      ]
     },
     "execution_count": 6,
     "metadata": {},
     "output_type": "execute_result"
    },
    {
     "data": {
      "image/png": "[encoded data removed]",
      "text/plain": [
       "<Figure size 576x432 with 1 Axes>"
      ]
     },
     "metadata": {
      "needs_background": "light"
     },
     "output_type": "display_data"
    }
   ],
   "source": [
    "age_yes = df[df['DEATH'] == 1].age\n",
    "age = df.age\n",
    "plt.figure(figsize=(8,6))\n",
    "plt.xlabel('Age')\n",
    "plt.ylabel('Death ')\n",
    "plt.hist([age_yes, age], label=['Death', 'Total per age'])\n",
    "plt.legend()"
   ]
  },
  {
   "cell_type": "code",
   "execution_count": 7,
   "id": "impressive-mailing",
   "metadata": {},
   "outputs": [
    {
     "data": {
      "text/plain": [
       "Text(0.5, 1.0, 'Men and women survival rates')"
      ]
     },
     "execution_count": 7,
     "metadata": {},
     "output_type": "execute_result"
    },
    {
     "data": {
      "image/png": "[encoded data removed]",
      "text/plain": [
       "<Figure size 432x288 with 1 Axes>"
      ]
     },
     "metadata": {},
     "output_type": "display_data"
    }
   ],
   "source": [
    "#Percentages of Male and Female who lived and died from heart failure\n",
    "\n",
    "male = df[df.sex ==1]\n",
    "female = df[df.sex == 0 ]\n",
    "\n",
    "male_lived = male[male.DEATH ==0]\n",
    "male_died = male [male.DEATH ==1]\n",
    "female_lived = female[female.DEATH ==0]\n",
    "female_died =  female[female.DEATH ==1]\n",
    "data = [len(male_died), len(male_lived),len(female_died),len(female_lived)]\n",
    "plt.pie(x=data,labels=['Male DEATH','Male Lived', 'Female DEATH','Female Lived'],wedgeprops={'edgecolor':'black'},autopct='%1.1f%%')\n",
    "plt.tight_layout()\n",
    "plt.title('Men and women survival rates')"
   ]
  },
  {
   "cell_type": "code",
   "execution_count": 8,
   "id": "legislative-tomorrow",
   "metadata": {},
   "outputs": [
    {
     "data": {
      "text/plain": [
       "Text(0.5, 1.0, 'Anaemia survival rates')"
      ]
     },
     "execution_count": 8,
     "metadata": {},
     "output_type": "execute_result"
    },
    {
     "data": {
      "image/png": "[encoded data removed]",
      "text/plain": [
       "<Figure size 432x288 with 1 Axes>"
      ]
     },
     "metadata": {},
     "output_type": "display_data"
    }
   ],
   "source": [
    "#Percentages of Male and Female who lived and died from heart failure with having anemia\n",
    "\n",
    "male_died_anemia = male_died[male_died.anaemia==1]\n",
    "male_lived_anemia = male_lived[male_lived.anaemia==1]\n",
    "female_died_anemia = female_died[female_died.anaemia==1]\n",
    "female_lived_anemia = female_lived[female_lived.anaemia==1]\n",
    "data = [len(male_died_anemia), len(male_lived_anemia),len(female_died_anemia),len(female_lived_anemia)]\n",
    "plt.pie(x=data,labels=['Male Died','Male Lived', 'Female Died','Female Lived'],wedgeprops={'edgecolor':'black'},autopct='%1.1f%%')\n",
    "plt.tight_layout()\n",
    "plt.title('Anaemia survival rates')"
   ]
  },
  {
   "cell_type": "code",
   "execution_count": 9,
   "id": "standard-breeding",
   "metadata": {},
   "outputs": [
    {
     "data": {
      "text/plain": [
       "Text(0.5, 1.0, 'Non-Anaemia survival rates')"
      ]
     },
     "execution_count": 9,
     "metadata": {},
     "output_type": "execute_result"
    },
    {
     "data": {
      "image/png": "[encoded data removed]",
      "text/plain": [
       "<Figure size 432x288 with 1 Axes>"
      ]
     },
     "metadata": {},
     "output_type": "display_data"
    }
   ],
   "source": [
    "#zPercentages of Male and Female who lived and died from heart failure with having non-anemia\n",
    "\n",
    "male_died_anemia = male_died[male_died.anaemia==0]\n",
    "male_lived_anemia = male_lived[male_lived.anaemia==0]\n",
    "female_died_anemia = female_died[female_died.anaemia==0]\n",
    "female_lived_anemia = female_lived[female_lived.anaemia==0]\n",
    "data = [len(male_died_anemia), len(male_lived_anemia),len(female_died_anemia),len(female_lived_anemia)]\n",
    "plt.pie(x=data,labels=['Male Died','Male Lived', 'Female Died','Female Lived'],wedgeprops={'edgecolor':'black'},autopct='%1.1f%%')\n",
    "plt.tight_layout()\n",
    "plt.title('Non-Anaemia survival rates')"
   ]
  },
  {
   "cell_type": "code",
   "execution_count": 10,
   "id": "fallen-vegetable",
   "metadata": {},
   "outputs": [
    {
     "data": {
      "text/plain": [
       "Text(0.5, 1.0, 'Diabetes survival rates')"
      ]
     },
     "execution_count": 10,
     "metadata": {},
     "output_type": "execute_result"
    },
    {
     "data": {
      "image/png": "[encoded data removed]",
      "text/plain": [
       "<Figure size 432x288 with 1 Axes>"
      ]
     },
     "metadata": {},
     "output_type": "display_data"
    }
   ],
   "source": [
    "#Percentages of Male and Female who lived and died from heart failure with having diabetes\n",
    "\n",
    "male_died_diabetes = male_died[male_died.diabetes==1]\n",
    "male_lived_diabetes = male_lived[male_lived.diabetes==1]\n",
    "female_died_diabetes = female_died[female_died.diabetes==1]\n",
    "female_lived_diabetes = female_lived[female_lived.diabetes==1]\n",
    "data = [len(male_died_diabetes), len(male_lived_diabetes),len(female_died_diabetes),len(female_lived_diabetes)]\n",
    "plt.pie(x=data,labels=['Male Died','Male Lived', 'Female Died','Female Lived'],wedgeprops={'edgecolor':'black'},autopct='%1.1f%%')\n",
    "plt.tight_layout()\n",
    "plt.title('Diabetes survival rates')"
   ]
  },
  {
   "cell_type": "code",
   "execution_count": 11,
   "id": "maritime-studio",
   "metadata": {},
   "outputs": [
    {
     "data": {
      "text/plain": [
       "Text(0.5, 1.0, 'Non-Diabetes survival rates')"
      ]
     },
     "execution_count": 11,
     "metadata": {},
     "output_type": "execute_result"
    },
    {
     "data": {
      "image/png": "[encoded data removed]",
      "text/plain": [
       "<Figure size 432x288 with 1 Axes>"
      ]
     },
     "metadata": {},
     "output_type": "display_data"
    }
   ],
   "source": [
    "#Percentages of Male and Female who lived and died from heart failure with having non-diabetes\n",
    "\n",
    "male_died_diabetes = male_died[male_died.diabetes==0]\n",
    "male_lived_diabetes = male_lived[male_lived.diabetes==0]\n",
    "female_died_diabetes = female_died[female_died.diabetes==0]\n",
    "female_lived_diabetes = female_lived[female_lived.diabetes==0]\n",
    "data = [len(male_died_diabetes), len(male_lived_diabetes),len(female_died_diabetes),len(female_lived_diabetes)]\n",
    "plt.pie(x=data,labels=['Male Died','Male Lived', 'Female Died','Female Lived'],wedgeprops={'edgecolor':'black'},autopct='%1.1f%%')\n",
    "plt.tight_layout()\n",
    "plt.title('Non-Diabetes survival rates')"
   ]
  },
  {
   "cell_type": "code",
   "execution_count": 12,
   "id": "specific-translator",
   "metadata": {},
   "outputs": [
    {
     "data": {
      "text/plain": [
       "Text(0.5, 1.0, 'High Blood Pressure survival rates')"
      ]
     },
     "execution_count": 12,
     "metadata": {},
     "output_type": "execute_result"
    },
    {
     "data": {
      "image/png": "[encoded data removed]",
      "text/plain": [
       "<Figure size 432x288 with 1 Axes>"
      ]
     },
     "metadata": {},
     "output_type": "display_data"
    }
   ],
   "source": [
    "#Percentages of Male and Female who lived and died from heart failure with having  high blood pressure\n",
    "\n",
    "male_died_hbp = male_died[male_died.high_blood_pressure==1]\n",
    "male_lived_hbp= male_lived[male_lived.high_blood_pressure==1]\n",
    "female_died_hbp = female_died[female_died.high_blood_pressure==1]\n",
    "female_lived_hbp= female_lived[female_lived.high_blood_pressure==1]\n",
    "data = [len(male_died_hbp), len(male_lived_hbp),len(female_died_hbp),len(female_lived_hbp)]\n",
    "plt.pie(x=data,labels=['Male Died','Male Lived', 'Female Died','Female Lived'],wedgeprops={'edgecolor':'black'},autopct='%1.1f%%')\n",
    "plt.tight_layout()\n",
    "plt.title('High Blood Pressure survival rates')"
   ]
  },
  {
   "cell_type": "code",
   "execution_count": 13,
   "id": "sustained-selection",
   "metadata": {
    "scrolled": false
   },
   "outputs": [
    {
     "data": {
      "text/plain": [
       "Text(0.5, 1.0, 'Non-High Blood Pressure survival rates')"
      ]
     },
     "execution_count": 13,
     "metadata": {},
     "output_type": "execute_result"
    },
    {
     "data": {
      "image/png": "[encoded data removed]",
      "text/plain": [
       "<Figure size 432x288 with 1 Axes>"
      ]
     },
     "metadata": {},
     "output_type": "display_data"
    }
   ],
   "source": [
    "#Percentages of Male and Female who lived and died from heart failure with having Non-High Blood Pressure survival rates\n",
    "\n",
    "male_died_hbp = male_died[male_died.high_blood_pressure==0]\n",
    "male_lived_hbp= male_lived[male_lived.high_blood_pressure==0]\n",
    "female_died_hbp = female_died[female_died.high_blood_pressure==0]\n",
    "female_lived_hbp= female_lived[female_lived.high_blood_pressure==0]\n",
    "data = [len(male_died_hbp), len(male_lived_hbp),len(female_died_hbp),len(female_lived_hbp)]\n",
    "plt.pie(x=data,labels=['Male Died','Male Lived', 'Female Died','Female Lived'],wedgeprops={'edgecolor':'black'},autopct='%1.1f%%')\n",
    "plt.tight_layout()\n",
    "plt.title('Non-High Blood Pressure survival rates')"
   ]
  },
  {
   "cell_type": "code",
   "execution_count": 14,
   "id": "square-parameter",
   "metadata": {},
   "outputs": [],
   "source": [
    "#create and train some machine learning models to  predict heart failure"
   ]
  },
  {
   "cell_type": "code",
   "execution_count": 15,
   "id": "beginning-regular",
   "metadata": {},
   "outputs": [],
   "source": [
    "from sklearn.model_selection import train_test_split\n",
    "\n",
    "X = df.drop('DEATH', axis='columns')\n",
    "y = df['DEATH']\n"
   ]
  },
  {
   "cell_type": "code",
   "execution_count": 16,
   "id": "heard-brazilian",
   "metadata": {},
   "outputs": [],
   "source": [
    "X_train,X_test,y_train,y_test = train_test_split(X,y,train_size=0.7,test_size=0.3,random_state=100)"
   ]
  },
  {
   "cell_type": "code",
   "execution_count": 17,
   "id": "explicit-logistics",
   "metadata": {
    "scrolled": false
   },
   "outputs": [
    {
     "name": "stdout",
     "output_type": "stream",
     "text": [
      "X train\n",
      "      age  anaemia  cholesterol   diabetes  ejection_fraction  \\\n",
      "154  65.0        1           335         0                 35   \n",
      "97   70.0        1            59         0                 60   \n",
      "274  60.0        1           257         1                 30   \n",
      "201  45.0        0           308         1                 60   \n",
      "132  46.0        0           719         0                 40   \n",
      "..    ...      ...           ...       ...                ...   \n",
      "66   42.0        1           250         1                 15   \n",
      "53   70.0        1            69         1                 50   \n",
      "79   55.0        0           336         0                 45   \n",
      "280  70.0        0          2695         1                 40   \n",
      "8    65.0        0           157         0                 65   \n",
      "\n",
      "     high_blood_pressure  platelets  serum1  serum_sodium  sex  smoking  time  \n",
      "154                    1  235000.00    0.80           136    0        0   120  \n",
      "97                     0  255000.00    1.10           136    0        0    85  \n",
      "274                    0  150000.00    1.00           137    1        1   245  \n",
      "201                    1  377000.00    1.00           136    1        0   186  \n",
      "132                    1  263358.03    1.18           137    0        0   107  \n",
      "..                   ...        ...     ...           ...  ...      ...   ...  \n",
      "66                     0  213000.00    1.30           136    0        0    65  \n",
      "53                     1  351000.00    1.00           134    0        0    44  \n",
      "79                     1  324000.00    0.90           140    0        0    74  \n",
      "280                    0  241000.00    1.00           137    1        0   247  \n",
      "8                      0  263358.03    1.50           138    0        0    10  \n",
      "\n",
      "[209 rows x 12 columns]\n",
      "y train\n",
      "154    0\n",
      "97     0\n",
      "274    0\n",
      "201    0\n",
      "132    0\n",
      "      ..\n",
      "66     1\n",
      "53     1\n",
      "79     0\n",
      "280    0\n",
      "8      1\n",
      "Name: DEATH, Length: 209, dtype: int64\n",
      "X test\n",
      "      age  anaemia  cholesterol   diabetes  ejection_fraction  \\\n",
      "221  65.0        0           118         0                 50   \n",
      "139  50.0        0          1548         0                 30   \n",
      "235  77.0        1           109         0                 50   \n",
      "175  60.0        1            95         0                 60   \n",
      "230  60.0        0           166         0                 30   \n",
      "..    ...      ...           ...       ...                ...   \n",
      "287  45.0        0           582         1                 55   \n",
      "29   82.0        0            70         1                 30   \n",
      "164  45.0        0          2442         1                 30   \n",
      "233  53.0        1           707         0                 38   \n",
      "3    50.0        1           111         0                 20   \n",
      "\n",
      "     high_blood_pressure  platelets  serum1  serum_sodium  sex  smoking  time  \n",
      "221                    0   194000.0     1.1           145    1        1   200  \n",
      "139                    1   211000.0     0.8           138    1        0   108  \n",
      "235                    1   406000.0     1.1           137    1        0   209  \n",
      "175                    0   337000.0     1.0           138    1        1   146  \n",
      "230                    0    62000.0     1.7           127    0        0   207  \n",
      "..                   ...        ...     ...           ...  ...      ...   ...  \n",
      "287                    0   543000.0     1.0           132    0        0   250  \n",
      "29                     0   200000.0     1.2           132    1        1    26  \n",
      "164                    0   334000.0     1.1           139    1        0   129  \n",
      "233                    0   330000.0     1.4           137    1        1   209  \n",
      "3                      0   210000.0     1.9           137    1        0     7  \n",
      "\n",
      "[90 rows x 12 columns]\n",
      "y test\n",
      "221    0\n",
      "139    0\n",
      "235    0\n",
      "175    0\n",
      "230    1\n",
      "      ..\n",
      "287    0\n",
      "29     1\n",
      "164    1\n",
      "233    0\n",
      "3      1\n",
      "Name: DEATH, Length: 90, dtype: int64\n"
     ]
    }
   ],
   "source": [
    "print(\"X train\")\n",
    "print(X_train)\n",
    "print(\"y train\")\n",
    "print(y_train)\n",
    "print(\"X test\")\n",
    "print(X_test)\n",
    "print(\"y test\")\n",
    "print(y_test)"
   ]
  },
  {
   "cell_type": "code",
   "execution_count": 18,
   "id": "closed-voice",
   "metadata": {},
   "outputs": [],
   "source": [
    "#implementing models"
   ]
  },
  {
   "cell_type": "code",
   "execution_count": 19,
   "id": "eastern-remark",
   "metadata": {},
   "outputs": [],
   "source": [
    "#logistic regression\n",
    "\n",
    "from sklearn.linear_model import LogisticRegression\n",
    "from sklearn.metrics import accuracy_score"
   ]
  },
  {
   "cell_type": "code",
   "execution_count": 20,
   "id": "hired-alarm",
   "metadata": {},
   "outputs": [
    {
     "name": "stdout",
     "output_type": "stream",
     "text": [
      "Accuracy of  LogisticRegression :  0.8111111111111111\n"
     ]
    }
   ],
   "source": [
    "df = LogisticRegression()\n",
    "# fit the regressor with x and y data\n",
    "df.fit(X_train,y_train)\n",
    "\n",
    "y_pred = df.predict(X_test)\n",
    "accuracy=accuracy_score(y_test,y_pred)\n",
    "print(\"Accuracy of  LogisticRegression : \",accuracy)"
   ]
  },
  {
   "cell_type": "code",
   "execution_count": 21,
   "id": "functional-modem",
   "metadata": {},
   "outputs": [
    {
     "name": "stdout",
     "output_type": "stream",
     "text": [
      "Accuracy of Decision tree :  0.7666666666666667\n"
     ]
    }
   ],
   "source": [
    "#decision tree\n",
    "\n",
    "from sklearn.tree import DecisionTreeClassifier\n",
    "\n",
    "df = DecisionTreeClassifier()\n",
    "# fit the regressor with x and y data\n",
    "df = df.fit(X_train,y_train)\n",
    "\n",
    "y_pred = df.predict(X_test)\n",
    "accuracy = accuracy_score(y_test,y_pred)\n",
    "print(\"Accuracy of Decision tree : \",accuracy)"
   ]
  },
  {
   "cell_type": "code",
   "execution_count": 22,
   "id": "moral-acceptance",
   "metadata": {},
   "outputs": [
    {
     "name": "stdout",
     "output_type": "stream",
     "text": [
      "Accuracy of RandomForest: 0.7666666666666667\n"
     ]
    }
   ],
   "source": [
    "#randomForest\n",
    "\n",
    "from sklearn.ensemble import RandomForestClassifier\n",
    "from sklearn.feature_selection import RFE\n",
    "\n",
    "\n",
    "df = RandomForestClassifier()\n",
    "# fit the regressor with x and y data\n",
    "df=df.fit(X_train,y_train) \n",
    "\n",
    "Y_pred = df.predict(X_test) \n",
    "accuracy_score(y_test,y_pred)\n",
    "print(\"Accuracy of RandomForest:\",accuracy)"
   ]
  },
  {
   "cell_type": "markdown",
   "id": "threatened-scale",
   "metadata": {},
   "source": [
    "Conclussion:- Based on the overall performance,LogisticRegression fits best, which gives a high accuracy around 81%"
   ]
  }
 ],
 "metadata": {
  "kernelspec": {
   "display_name": "Python 3",
   "language": "python",
   "name": "python3"
  },
  "language_info": {
   "codemirror_mode": {
    "name": "ipython",
    "version": 3
   },
   "file_extension": ".py",
   "mimetype": "text/x-python",
   "name": "python",
   "nbconvert_exporter": "python",
   "pygments_lexer": "ipython3",
   "version": "3.7.4"
  }
 },
 "nbformat": 4,
 "nbformat_minor": 5
}
